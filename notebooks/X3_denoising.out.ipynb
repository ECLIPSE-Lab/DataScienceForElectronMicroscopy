{
 "cells": [
  {
   "cell_type": "markdown",
   "metadata": {},
   "source": [
    "# X3 Denoising"
   ],
   "id": "48a4d021-3c9c-4d83-92a3-d0d46dbe700f"
  },
  {
   "cell_type": "markdown",
   "metadata": {},
   "source": [],
   "id": "cell-1"
  },
  {
   "cell_type": "code",
   "execution_count": null,
   "metadata": {},
   "outputs": [],
   "source": [
    "file_path = '/mnt/data/datascience_miniprojects/03_denoising/25815436/SrTiO3_Low_mag_Low_angle_Low_dose.npy'"
   ],
   "id": "cell-2"
  }
 ],
 "nbformat": 4,
 "nbformat_minor": 5,
 "metadata": {}
}

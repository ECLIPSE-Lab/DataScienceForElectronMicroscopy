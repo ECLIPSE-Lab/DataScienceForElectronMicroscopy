{
 "cells": [
  {
   "cell_type": "markdown",
   "metadata": {},
   "source": [
    "# X4 Image to Image Translation"
   ],
   "id": "2d210867-ad34-4a5f-b1e9-746550ec31a6"
  },
  {
   "cell_type": "markdown",
   "metadata": {},
   "source": [],
   "id": "cell-1"
  },
  {
   "cell_type": "code",
   "execution_count": 1,
   "metadata": {},
   "outputs": [],
   "source": [
    "import numpy as np\n",
    "import pandas as pd\n",
    "import matplotlib.pyplot as plt\n",
    "import os\n",
    "import h5py as h5\n",
    "import torch as th"
   ],
   "id": "cell-2"
  },
  {
   "cell_type": "code",
   "execution_count": null,
   "metadata": {},
   "outputs": [],
   "source": [
    "path = '/mnt/data/datascience_miniprojects/04_ImageToImage/sim/'\n",
    "path_inputs = path + 'inputs/'\n",
    "path_targets = path + 'outputs/'\n",
    "\n",
    "# %%\n"
   ],
   "id": "cell-3"
  },
  {
   "cell_type": "markdown",
   "metadata": {},
   "source": [],
   "id": "cell-4"
  }
 ],
 "nbformat": 4,
 "nbformat_minor": 5,
 "metadata": {}
}

{
  "cells": [
    {
      "cell_type": "markdown",
      "metadata": {},
      "source": [
        "# 01.2 Linear Algebra\n",
        "\n",
        "By now, we can load datasets into tensors and manipulate these tensors\n",
        "with basic mathematical operations. To start building sophisticated\n",
        "models, we will also need a few tools from linear algebra. This section\n",
        "offers a gentle introduction to the most essential concepts, starting\n",
        "from scalar arithmetic and ramping up to matrix multiplication."
      ],
      "id": "b25125a0-9d49-498a-bddf-ec5fdc520084"
    },
    {
      "cell_type": "code",
      "execution_count": null,
      "metadata": {
        "execution": {
          "iopub.execute_input": "2023-08-18T19:41:51.529162Z",
          "iopub.status.busy": "2023-08-18T19:41:51.528467Z",
          "iopub.status.idle": "2023-08-18T19:41:53.438267Z",
          "shell.execute_reply": "2023-08-18T19:41:53.437059Z"
        },
        "origin_pos": 3,
        "tab": [
          "pytorch"
        ]
      },
      "outputs": [],
      "source": [
        "import torch"
      ],
      "id": "dc36b473"
    },
    {
      "cell_type": "markdown",
      "metadata": {},
      "source": [
        "## Scalars\n",
        "\n",
        "Most everyday mathematics consists of manipulating numbers one at a\n",
        "time. Formally, we call these values *scalars*. For example, the\n",
        "temperature in Palo Alto is a balmy $72$ degrees Fahrenheit. If you\n",
        "wanted to convert the temperature to Celsius you would evaluate the\n",
        "expression $c = \\frac{5}{9}(f - 32)$, setting $f$ to $72$. In this\n",
        "equation, the values $5$, $9$, and $32$ are constant scalars. The\n",
        "variables $c$ and $f$ in general represent unknown scalars.\n",
        "\n",
        "We denote scalars by ordinary lower-cased letters (e.g., $x$, $y$, and\n",
        "$z$) and the space of all (continuous) *real-valued* scalars by\n",
        "$\\mathbb{R}$. For expedience, we will skip past rigorous definitions of\n",
        "*spaces*: just remember that the expression $x \\in \\mathbb{R}$ is a\n",
        "formal way to say that $x$ is a real-valued scalar. The symbol $\\in$\n",
        "(pronounced “in”) denotes membership in a set. For example,\n",
        "$x, y \\in \\{0, 1\\}$ indicates that $x$ and $y$ are variables that can\n",
        "only take values $0$ or $1$.\n",
        "\n",
        "(**Scalars are implemented as tensors that contain only one element.**)\n",
        "Below, we assign two scalars and perform the familiar addition,\n",
        "multiplication, division, and exponentiation operations."
      ],
      "id": "6cbdce9d-1fed-4499-aad4-54f6f39b5aec"
    },
    {
      "cell_type": "code",
      "execution_count": null,
      "metadata": {
        "execution": {
          "iopub.execute_input": "2023-08-18T19:41:53.442690Z",
          "iopub.status.busy": "2023-08-18T19:41:53.442040Z",
          "iopub.status.idle": "2023-08-18T19:41:53.472277Z",
          "shell.execute_reply": "2023-08-18T19:41:53.471491Z"
        },
        "origin_pos": 8,
        "outputId": "22bb0817-05ab-4c31-f6e4-34ffddeb935b",
        "tab": [
          "pytorch"
        ]
      },
      "outputs": [
        {
          "output_type": "display_data",
          "metadata": {},
          "data": {
            "text/plain": [
              "(tensor(5.), tensor(6.), tensor(1.5000), tensor(9.))"
            ]
          }
        }
      ],
      "source": [
        "x = torch.tensor(3.0)\n",
        "y = torch.tensor(2.0)\n",
        "\n",
        "x + y, x * y, x / y, x**y"
      ],
      "id": "4fc9ba1d"
    },
    {
      "cell_type": "markdown",
      "metadata": {},
      "source": [
        "## Vectors\n",
        "\n",
        "For current purposes, \\[**you can think of a vector as a fixed-length\n",
        "array of scalars.**\\] As with their code counterparts, we call these\n",
        "scalars the *elements* of the vector (synonyms include *entries* and\n",
        "*components*). When vectors represent examples from real-world datasets,\n",
        "their values hold some real-world significance. For example, if we were\n",
        "training a model to predict the risk of a loan defaulting, we might\n",
        "associate each applicant with a vector whose components correspond to\n",
        "quantities like their income, length of employment, or number of\n",
        "previous defaults. If we were studying the risk of heart attack, each\n",
        "vector might represent a patient and its components might correspond to\n",
        "their most recent vital signs, cholesterol levels, minutes of exercise\n",
        "per day, etc. We denote vectors by bold lowercase letters, (e.g.,\n",
        "$\\mathbf{x}$, $\\mathbf{y}$, and $\\mathbf{z}$).\n",
        "\n",
        "Vectors are implemented as $1^{\\textrm{st}}$-order tensors. In general,\n",
        "such tensors can have arbitrary lengths, subject to memory limitations.\n",
        "Caution: in Python, as in most programming languages, vector indices\n",
        "start at $0$, also known as *zero-based indexing*, whereas in linear\n",
        "algebra subscripts begin at $1$ (one-based indexing)."
      ],
      "id": "aeeab038-f67f-4a07-9da3-419a99aa9111"
    },
    {
      "cell_type": "code",
      "execution_count": null,
      "metadata": {
        "execution": {
          "iopub.execute_input": "2023-08-18T19:41:53.475759Z",
          "iopub.status.busy": "2023-08-18T19:41:53.475141Z",
          "iopub.status.idle": "2023-08-18T19:41:53.481106Z",
          "shell.execute_reply": "2023-08-18T19:41:53.479872Z"
        },
        "origin_pos": 13,
        "outputId": "32ef77fc-07a9-4ca8-8386-7c0e5a274b90",
        "tab": [
          "pytorch"
        ]
      },
      "outputs": [
        {
          "output_type": "display_data",
          "metadata": {},
          "data": {
            "text/plain": [
              "tensor([0, 1, 2])"
            ]
          }
        }
      ],
      "source": [
        "x = torch.arange(3)\n",
        "x"
      ],
      "id": "91cd966f"
    },
    {
      "cell_type": "markdown",
      "metadata": {},
      "source": [
        "We can refer to an element of a vector by using a subscript. For\n",
        "example, $x_2$ denotes the second element of $\\mathbf{x}$. Since $x_2$\n",
        "is a scalar, we do not bold it. By default, we visualize vectors by\n",
        "stacking their elements vertically.\n",
        "\n",
        "$$\\mathbf{x} =\\begin{bmatrix}x_{1}  \\\\ \\vdots  \\\\x_{n}\\end{bmatrix},$$\n",
        ":eqlabel:`eq_vec_def`\n",
        "\n",
        "Here $x_1, \\ldots, x_n$ are elements of the vector. Later on, we will\n",
        "distinguish between such *column vectors* and *row vectors* whose\n",
        "elements are stacked horizontally. Recall that \\[**we access a tensor’s\n",
        "elements via indexing.**\\]"
      ],
      "id": "b7bec3b1-6c8b-4e75-b6da-52abe7884f06"
    },
    {
      "cell_type": "code",
      "execution_count": null,
      "metadata": {
        "execution": {
          "iopub.execute_input": "2023-08-18T19:41:53.485066Z",
          "iopub.status.busy": "2023-08-18T19:41:53.484260Z",
          "iopub.status.idle": "2023-08-18T19:41:53.492710Z",
          "shell.execute_reply": "2023-08-18T19:41:53.491415Z"
        },
        "origin_pos": 17,
        "outputId": "7409b087-dca0-49b2-e5f2-c788137fdce5",
        "tab": [
          "pytorch"
        ]
      },
      "outputs": [
        {
          "output_type": "display_data",
          "metadata": {},
          "data": {
            "text/plain": [
              "tensor(2)"
            ]
          }
        }
      ],
      "source": [
        "x[2]"
      ],
      "id": "ba15a197"
    },
    {
      "cell_type": "markdown",
      "metadata": {},
      "source": [
        "To indicate that a vector contains $n$ elements, we write\n",
        "$\\mathbf{x} \\in \\mathbb{R}^n$. Formally, we call $n$ the\n",
        "*dimensionality* of the vector. \\[**In code, this corresponds to the\n",
        "tensor’s length**\\], accessible via Python’s built-in `len` function."
      ],
      "id": "5ef4b86a-b432-4abe-8c42-cc0a50fca454"
    },
    {
      "cell_type": "code",
      "execution_count": null,
      "metadata": {
        "execution": {
          "iopub.execute_input": "2023-08-18T19:41:53.497529Z",
          "iopub.status.busy": "2023-08-18T19:41:53.496794Z",
          "iopub.status.idle": "2023-08-18T19:41:53.502332Z",
          "shell.execute_reply": "2023-08-18T19:41:53.501510Z"
        },
        "origin_pos": 19,
        "outputId": "aa04e23b-8f6e-4b94-adc6-def3f0e51c26",
        "tab": [
          "pytorch"
        ]
      },
      "outputs": [
        {
          "output_type": "display_data",
          "metadata": {},
          "data": {
            "text/plain": [
              "3"
            ]
          }
        }
      ],
      "source": [
        "len(x)"
      ],
      "id": "871cd7e6"
    },
    {
      "cell_type": "markdown",
      "metadata": {},
      "source": [
        "We can also access the length via the `shape` attribute. The shape is a\n",
        "tuple that indicates a tensor’s length along each axis. (**Tensors with\n",
        "just one axis have shapes with just one element.**)"
      ],
      "id": "ee30b26e-6712-47c8-8382-183820721bcd"
    },
    {
      "cell_type": "code",
      "execution_count": null,
      "metadata": {
        "execution": {
          "iopub.execute_input": "2023-08-18T19:41:53.505748Z",
          "iopub.status.busy": "2023-08-18T19:41:53.505180Z",
          "iopub.status.idle": "2023-08-18T19:41:53.510136Z",
          "shell.execute_reply": "2023-08-18T19:41:53.509337Z"
        },
        "origin_pos": 21,
        "outputId": "360baf71-f210-49fb-8443-de2c140eba17",
        "tab": [
          "pytorch"
        ]
      },
      "outputs": [
        {
          "output_type": "display_data",
          "metadata": {},
          "data": {
            "text/plain": [
              "torch.Size([3])"
            ]
          }
        }
      ],
      "source": [
        "x.shape"
      ],
      "id": "34ea04c3"
    },
    {
      "cell_type": "markdown",
      "metadata": {},
      "source": [
        "Oftentimes, the word “dimension” gets overloaded to mean both the number\n",
        "of axes and the length along a particular axis. To avoid this confusion,\n",
        "we use *order* to refer to the number of axes and *dimensionality*\n",
        "exclusively to refer to the number of components.\n",
        "\n",
        "## Matrices\n",
        "\n",
        "Just as scalars are $0^{\\textrm{th}}$-order tensors and vectors are\n",
        "$1^{\\textrm{st}}$-order tensors, matrices are $2^{\\textrm{nd}}$-order\n",
        "tensors. We denote matrices by bold capital letters (e.g., $\\mathbf{X}$,\n",
        "$\\mathbf{Y}$, and $\\mathbf{Z}$), and represent them in code by tensors\n",
        "with two axes. The expression $\\mathbf{A} \\in \\mathbb{R}^{m \\times n}$\n",
        "indicates that a matrix $\\mathbf{A}$ contains $m \\times n$ real-valued\n",
        "scalars, arranged as $m$ rows and $n$ columns. When $m = n$, we say that\n",
        "a matrix is *square*. Visually, we can illustrate any matrix as a table.\n",
        "To refer to an individual element, we subscript both the row and column\n",
        "indices, e.g., $a_{ij}$ is the value that belongs to $\\mathbf{A}$’s\n",
        "$i^{\\textrm{th}}$ row and $j^{\\textrm{th}}$ column:\n",
        "\n",
        "$$\\mathbf{A}=\\begin{bmatrix} a_{11} & a_{12} & \\cdots & a_{1n} \\\\ a_{21} & a_{22} & \\cdots & a_{2n} \\\\ \\vdots & \\vdots & \\ddots & \\vdots \\\\ a_{m1} & a_{m2} & \\cdots & a_{mn} \\\\ \\end{bmatrix}.$$\n",
        ":eqlabel:`eq_matrix_def`\n",
        "\n",
        "In code, we represent a matrix $\\mathbf{A} \\in \\mathbb{R}^{m \\times n}$\n",
        "by a $2^{\\textrm{nd}}$-order tensor with shape ($m$, $n$). \\[**We can\n",
        "convert any appropriately sized $m \\times n$ tensor into an $m \\times n$\n",
        "matrix**\\] by passing the desired shape to `reshape`:"
      ],
      "id": "ece65508-b1ec-4984-a9ed-1b7bdf64977e"
    },
    {
      "cell_type": "code",
      "execution_count": null,
      "metadata": {
        "execution": {
          "iopub.execute_input": "2023-08-18T19:41:53.513569Z",
          "iopub.status.busy": "2023-08-18T19:41:53.512931Z",
          "iopub.status.idle": "2023-08-18T19:41:53.518545Z",
          "shell.execute_reply": "2023-08-18T19:41:53.517740Z"
        },
        "origin_pos": 24,
        "outputId": "1251aebe-06b6-435f-b1cc-87b677d3356c",
        "tab": [
          "pytorch"
        ]
      },
      "outputs": [
        {
          "output_type": "display_data",
          "metadata": {},
          "data": {
            "text/plain": [
              "tensor([[0, 1],\n",
              "        [2, 3],\n",
              "        [4, 5]])"
            ]
          }
        }
      ],
      "source": [
        "A = torch.arange(6).reshape(3, 2)\n",
        "A"
      ],
      "id": "80c49751"
    },
    {
      "cell_type": "markdown",
      "metadata": {},
      "source": [
        "Sometimes we want to flip the axes. When we exchange a matrix’s rows and\n",
        "columns, the result is called its *transpose*. Formally, we signify a\n",
        "matrix $\\mathbf{A}$’s transpose by $\\mathbf{A}^\\top$ and if\n",
        "$\\mathbf{B} = \\mathbf{A}^\\top$, then $b_{ij} = a_{ji}$ for all $i$ and\n",
        "$j$. Thus, the transpose of an $m \\times n$ matrix is an $n \\times m$\n",
        "matrix:\n",
        "\n",
        "$$\n",
        "\\mathbf{A}^\\top =\n",
        "\\begin{bmatrix}\n",
        "    a_{11} & a_{21} & \\dots  & a_{m1} \\\\\n",
        "    a_{12} & a_{22} & \\dots  & a_{m2} \\\\\n",
        "    \\vdots & \\vdots & \\ddots  & \\vdots \\\\\n",
        "    a_{1n} & a_{2n} & \\dots  & a_{mn}\n",
        "\\end{bmatrix}.\n",
        "$$\n",
        "\n",
        "In code, we can access any (**matrix’s transpose**) as follows:"
      ],
      "id": "009c8fce-d152-4f35-a753-15d2f1469fd9"
    },
    {
      "cell_type": "code",
      "execution_count": null,
      "metadata": {
        "execution": {
          "iopub.execute_input": "2023-08-18T19:41:53.521874Z",
          "iopub.status.busy": "2023-08-18T19:41:53.521332Z",
          "iopub.status.idle": "2023-08-18T19:41:53.526566Z",
          "shell.execute_reply": "2023-08-18T19:41:53.525812Z"
        },
        "origin_pos": 28,
        "outputId": "54b7b7d9-d211-41d8-a82b-9e066299a9dd",
        "tab": [
          "pytorch"
        ]
      },
      "outputs": [
        {
          "output_type": "display_data",
          "metadata": {},
          "data": {
            "text/plain": [
              "tensor([[0, 2, 4],\n",
              "        [1, 3, 5]])"
            ]
          }
        }
      ],
      "source": [
        "A.T"
      ],
      "id": "7ef1e23b"
    },
    {
      "cell_type": "markdown",
      "metadata": {},
      "source": [
        "\\[**Symmetric matrices are the subset of square matrices that are equal\n",
        "to their own transposes: $\\mathbf{A} = \\mathbf{A}^\\top$.**\\] The\n",
        "following matrix is symmetric:"
      ],
      "id": "c0d69875-d029-4e96-82bf-4adfa88fb3f2"
    },
    {
      "cell_type": "code",
      "execution_count": null,
      "metadata": {
        "execution": {
          "iopub.execute_input": "2023-08-18T19:41:53.529939Z",
          "iopub.status.busy": "2023-08-18T19:41:53.529400Z",
          "iopub.status.idle": "2023-08-18T19:41:53.535337Z",
          "shell.execute_reply": "2023-08-18T19:41:53.534568Z"
        },
        "origin_pos": 32,
        "outputId": "244f5fda-edfc-4f1d-d5dd-e76f4cef91d7",
        "tab": [
          "pytorch"
        ]
      },
      "outputs": [
        {
          "output_type": "display_data",
          "metadata": {},
          "data": {
            "text/plain": [
              "tensor([[True, True, True],\n",
              "        [True, True, True],\n",
              "        [True, True, True]])"
            ]
          }
        }
      ],
      "source": [
        "A = torch.tensor([[1, 2, 3], [2, 0, 4], [3, 4, 5]])\n",
        "A == A.T"
      ],
      "id": "028e06ed"
    },
    {
      "cell_type": "markdown",
      "metadata": {},
      "source": [
        "Matrices are useful for representing datasets. Typically, rows\n",
        "correspond to individual records and columns correspond to distinct\n",
        "attributes.\n",
        "\n",
        "## Tensors\n",
        "\n",
        "While you can go far in your machine learning journey with only scalars,\n",
        "vectors, and matrices, eventually you may need to work with higher-order\n",
        "\\[**tensors**\\]. Tensors (**give us a generic way of describing\n",
        "extensions to $n^{\\textrm{th}}$-order arrays.**) We call software\n",
        "objects of the *tensor class* “tensors” precisely because they too can\n",
        "have arbitrary numbers of axes. While it may be confusing to use the\n",
        "word *tensor* for both the mathematical object and its realization in\n",
        "code, our meaning should usually be clear from context. We denote\n",
        "general tensors by capital letters with a special font face (e.g.,\n",
        "$\\mathsf{X}$, $\\mathsf{Y}$, and $\\mathsf{Z}$) and their indexing\n",
        "mechanism (e.g., $x_{ijk}$ and $[\\mathsf{X}]_{1, 2i-1, 3}$) follows\n",
        "naturally from that of matrices.\n",
        "\n",
        "Tensors will become more important when we start working with images.\n",
        "Each image arrives as a $3^{\\textrm{rd}}$-order tensor with axes\n",
        "corresponding to the height, width, and *channel*. At each spatial\n",
        "location, the intensities of each color (red, green, and blue) are\n",
        "stacked along the channel. Furthermore, a collection of images is\n",
        "represented in code by a $4^{\\textrm{th}}$-order tensor, where distinct\n",
        "images are indexed along the first axis. Higher-order tensors are\n",
        "constructed, as were vectors and matrices, by growing the number of\n",
        "shape components."
      ],
      "id": "bb560f9c-777f-49bb-9eab-a5227d551af5"
    },
    {
      "cell_type": "code",
      "execution_count": null,
      "metadata": {
        "execution": {
          "iopub.execute_input": "2023-08-18T19:41:53.538891Z",
          "iopub.status.busy": "2023-08-18T19:41:53.538210Z",
          "iopub.status.idle": "2023-08-18T19:41:53.546164Z",
          "shell.execute_reply": "2023-08-18T19:41:53.545027Z"
        },
        "origin_pos": 37,
        "outputId": "896f3ff5-0070-4149-e155-7553411e6d3e",
        "tab": [
          "pytorch"
        ]
      },
      "outputs": [
        {
          "output_type": "display_data",
          "metadata": {},
          "data": {
            "text/plain": [
              "tensor([[[ 0,  1,  2,  3],\n",
              "         [ 4,  5,  6,  7],\n",
              "         [ 8,  9, 10, 11]],\n",
              "\n",
              "        [[12, 13, 14, 15],\n",
              "         [16, 17, 18, 19],\n",
              "         [20, 21, 22, 23]]])"
            ]
          }
        }
      ],
      "source": [
        "torch.arange(24).reshape(2, 3, 4)"
      ],
      "id": "306d610e"
    },
    {
      "cell_type": "markdown",
      "metadata": {},
      "source": [
        "## Basic Properties of Tensor Arithmetic\n",
        "\n",
        "Scalars, vectors, matrices, and higher-order tensors all have some handy\n",
        "properties. For example, elementwise operations produce outputs that\n",
        "have the same shape as their operands."
      ],
      "id": "420abb2c-3403-4d22-accd-6c8b6a904e49"
    },
    {
      "cell_type": "code",
      "execution_count": null,
      "metadata": {
        "execution": {
          "iopub.execute_input": "2023-08-18T19:41:53.550917Z",
          "iopub.status.busy": "2023-08-18T19:41:53.550017Z",
          "iopub.status.idle": "2023-08-18T19:41:53.558241Z",
          "shell.execute_reply": "2023-08-18T19:41:53.557366Z"
        },
        "origin_pos": 42,
        "outputId": "3cb4c91b-d804-41bb-c141-9705732629db",
        "tab": [
          "pytorch"
        ]
      },
      "outputs": [
        {
          "output_type": "display_data",
          "metadata": {},
          "data": {
            "text/plain": [
              "(tensor([[0., 1., 2.],\n",
              "         [3., 4., 5.]]),\n",
              " tensor([[ 0.,  2.,  4.],\n",
              "         [ 6.,  8., 10.]]))"
            ]
          }
        }
      ],
      "source": [
        "A = torch.arange(6, dtype=torch.float32).reshape(2, 3)\n",
        "B = A.clone()  # Assign a copy of A to B by allocating new memory\n",
        "A, A + B"
      ],
      "id": "53a34bc0"
    },
    {
      "cell_type": "markdown",
      "metadata": {},
      "source": [
        "The \\[**elementwise product of two matrices is called their *Hadamard\n",
        "product***\\] (denoted $\\odot$). We can spell out the entries of the\n",
        "Hadamard product of two matrices\n",
        "$\\mathbf{A}, \\mathbf{B} \\in \\mathbb{R}^{m \\times n}$:\n",
        "\n",
        "$$\n",
        "\\mathbf{A} \\odot \\mathbf{B} =\n",
        "\\begin{bmatrix}\n",
        "    a_{11}  b_{11} & a_{12}  b_{12} & \\dots  & a_{1n}  b_{1n} \\\\\n",
        "    a_{21}  b_{21} & a_{22}  b_{22} & \\dots  & a_{2n}  b_{2n} \\\\\n",
        "    \\vdots & \\vdots & \\ddots & \\vdots \\\\\n",
        "    a_{m1}  b_{m1} & a_{m2}  b_{m2} & \\dots  & a_{mn}  b_{mn}\n",
        "\\end{bmatrix}.\n",
        "$$"
      ],
      "id": "bc16ad7c-3e2c-4c17-9b56-46d5e558cec4"
    },
    {
      "cell_type": "code",
      "execution_count": null,
      "metadata": {
        "execution": {
          "iopub.execute_input": "2023-08-18T19:41:53.561758Z",
          "iopub.status.busy": "2023-08-18T19:41:53.561198Z",
          "iopub.status.idle": "2023-08-18T19:41:53.567597Z",
          "shell.execute_reply": "2023-08-18T19:41:53.566714Z"
        },
        "origin_pos": 46,
        "outputId": "1f522030-b95b-4189-dca5-669a95fdaf18",
        "tab": [
          "pytorch"
        ]
      },
      "outputs": [
        {
          "output_type": "display_data",
          "metadata": {},
          "data": {
            "text/plain": [
              "tensor([[ 0.,  1.,  4.],\n",
              "        [ 9., 16., 25.]])"
            ]
          }
        }
      ],
      "source": [
        "A * B"
      ],
      "id": "1e2c0645"
    },
    {
      "cell_type": "markdown",
      "metadata": {},
      "source": [
        "\\[**Adding or multiplying a scalar and a tensor**\\] produces a result\n",
        "with the same shape as the original tensor. Here, each element of the\n",
        "tensor is added to (or multiplied by) the scalar."
      ],
      "id": "adfe9eb6-c67d-44e0-be2b-1e9eb25ebea2"
    },
    {
      "cell_type": "code",
      "execution_count": null,
      "metadata": {
        "execution": {
          "iopub.execute_input": "2023-08-18T19:41:53.571034Z",
          "iopub.status.busy": "2023-08-18T19:41:53.570428Z",
          "iopub.status.idle": "2023-08-18T19:41:53.577301Z",
          "shell.execute_reply": "2023-08-18T19:41:53.576396Z"
        },
        "origin_pos": 49,
        "outputId": "0a76ed46-7556-4aca-9fbf-153aa227f78c",
        "tab": [
          "pytorch"
        ]
      },
      "outputs": [
        {
          "output_type": "display_data",
          "metadata": {},
          "data": {
            "text/plain": [
              "(tensor([[[ 2,  3,  4,  5],\n",
              "          [ 6,  7,  8,  9],\n",
              "          [10, 11, 12, 13]],\n",
              " \n",
              "         [[14, 15, 16, 17],\n",
              "          [18, 19, 20, 21],\n",
              "          [22, 23, 24, 25]]]),\n",
              " torch.Size([2, 3, 4]))"
            ]
          }
        }
      ],
      "source": [
        "a = 2\n",
        "X = torch.arange(24).reshape(2, 3, 4)\n",
        "a + X, (a * X).shape"
      ],
      "id": "c5c86fb1"
    },
    {
      "cell_type": "markdown",
      "metadata": {},
      "source": [
        "## Reduction\n",
        "\n",
        ":label:`subsec_lin-alg-reduction`\n",
        "\n",
        "Often, we wish to calculate \\[**the sum of a tensor’s elements.**\\] To\n",
        "express the sum of the elements in a vector $\\mathbf{x}$ of length $n$,\n",
        "we write $\\sum_{i=1}^n x_i$. There is a simple function for it:"
      ],
      "id": "efbc31e9-dadd-4b1d-9de8-7ae952ab23c1"
    },
    {
      "cell_type": "code",
      "execution_count": null,
      "metadata": {
        "execution": {
          "iopub.execute_input": "2023-08-18T19:41:53.580908Z",
          "iopub.status.busy": "2023-08-18T19:41:53.580306Z",
          "iopub.status.idle": "2023-08-18T19:41:53.588497Z",
          "shell.execute_reply": "2023-08-18T19:41:53.587623Z"
        },
        "origin_pos": 54,
        "outputId": "13208eb0-9bbc-45bf-aa5a-fdad2483a1fd",
        "tab": [
          "pytorch"
        ]
      },
      "outputs": [
        {
          "output_type": "display_data",
          "metadata": {},
          "data": {
            "text/plain": [
              "(tensor([0., 1., 2.]), tensor(3.))"
            ]
          }
        }
      ],
      "source": [
        "x = torch.arange(3, dtype=torch.float32)\n",
        "x, x.sum()"
      ],
      "id": "5a3c4cbd"
    },
    {
      "cell_type": "markdown",
      "metadata": {},
      "source": [
        "To express \\[**sums over the elements of tensors of arbitrary shape**\\],\n",
        "we simply sum over all its axes. For example, the sum of the elements of\n",
        "an $m \\times n$ matrix $\\mathbf{A}$ could be written\n",
        "$\\sum_{i=1}^{m} \\sum_{j=1}^{n} a_{ij}$."
      ],
      "id": "48a23dbe-90fd-4f42-8b67-c8e478b567f6"
    },
    {
      "cell_type": "code",
      "execution_count": null,
      "metadata": {
        "execution": {
          "iopub.execute_input": "2023-08-18T19:41:53.593587Z",
          "iopub.status.busy": "2023-08-18T19:41:53.592920Z",
          "iopub.status.idle": "2023-08-18T19:41:53.602105Z",
          "shell.execute_reply": "2023-08-18T19:41:53.600812Z"
        },
        "origin_pos": 58,
        "outputId": "c0b185a0-e95c-457a-845d-9ee6cf649d13",
        "tab": [
          "pytorch"
        ]
      },
      "outputs": [
        {
          "output_type": "display_data",
          "metadata": {},
          "data": {
            "text/plain": [
              "(torch.Size([2, 3]), tensor(15.))"
            ]
          }
        }
      ],
      "source": [
        "A.shape, A.sum()"
      ],
      "id": "7594e574"
    },
    {
      "cell_type": "markdown",
      "metadata": {},
      "source": [
        "By default, invoking the sum function *reduces* a tensor along all of\n",
        "its axes, eventually producing a scalar. Our libraries also allow us to\n",
        "\\[**specify the axes along which the tensor should be reduced.**\\] To\n",
        "sum over all elements along the rows (axis 0), we specify `axis=0` in\n",
        "`sum`. Since the input matrix reduces along axis 0 to generate the\n",
        "output vector, this axis is missing from the shape of the output."
      ],
      "id": "e4887893-20da-45c3-9aac-5f94cb34c01a"
    },
    {
      "cell_type": "code",
      "execution_count": null,
      "metadata": {
        "execution": {
          "iopub.execute_input": "2023-08-18T19:41:53.606330Z",
          "iopub.status.busy": "2023-08-18T19:41:53.605594Z",
          "iopub.status.idle": "2023-08-18T19:41:53.612393Z",
          "shell.execute_reply": "2023-08-18T19:41:53.611227Z"
        },
        "origin_pos": 61,
        "outputId": "51dce4b6-25c1-4d81-b1e3-3522d92c8b46",
        "tab": [
          "pytorch"
        ]
      },
      "outputs": [
        {
          "output_type": "display_data",
          "metadata": {},
          "data": {
            "text/plain": [
              "(torch.Size([2, 3]), torch.Size([3]))"
            ]
          }
        }
      ],
      "source": [
        "A.shape, A.sum(axis=0).shape"
      ],
      "id": "14d191be"
    },
    {
      "cell_type": "markdown",
      "metadata": {},
      "source": [
        "Specifying `axis=1` will reduce the column dimension (axis 1) by summing\n",
        "up elements of all the columns."
      ],
      "id": "1c36de5f-b5d5-4812-ba67-ea790c7e15a4"
    },
    {
      "cell_type": "code",
      "execution_count": null,
      "metadata": {
        "execution": {
          "iopub.execute_input": "2023-08-18T19:41:53.615938Z",
          "iopub.status.busy": "2023-08-18T19:41:53.615181Z",
          "iopub.status.idle": "2023-08-18T19:41:53.621919Z",
          "shell.execute_reply": "2023-08-18T19:41:53.620799Z"
        },
        "origin_pos": 64,
        "outputId": "5165282a-3eeb-4782-b3c3-a4850a255741",
        "tab": [
          "pytorch"
        ]
      },
      "outputs": [
        {
          "output_type": "display_data",
          "metadata": {},
          "data": {
            "text/plain": [
              "(torch.Size([2, 3]), torch.Size([2]))"
            ]
          }
        }
      ],
      "source": [
        "A.shape, A.sum(axis=1).shape"
      ],
      "id": "ee3c0559"
    },
    {
      "cell_type": "markdown",
      "metadata": {},
      "source": [
        "Reducing a matrix along both rows and columns via summation is\n",
        "equivalent to summing up all the elements of the matrix."
      ],
      "id": "3fce8987-42bd-4f83-9e75-50bac07198d0"
    },
    {
      "cell_type": "code",
      "execution_count": null,
      "metadata": {
        "execution": {
          "iopub.execute_input": "2023-08-18T19:41:53.625271Z",
          "iopub.status.busy": "2023-08-18T19:41:53.624779Z",
          "iopub.status.idle": "2023-08-18T19:41:53.631897Z",
          "shell.execute_reply": "2023-08-18T19:41:53.630699Z"
        },
        "origin_pos": 67,
        "outputId": "7179ca48-db1b-4813-b2dd-cf7ec80eec2b",
        "tab": [
          "pytorch"
        ]
      },
      "outputs": [
        {
          "output_type": "display_data",
          "metadata": {},
          "data": {
            "text/plain": [
              "tensor(True)"
            ]
          }
        }
      ],
      "source": [
        "A.sum(axis=[0, 1]) == A.sum()  # Same as A.sum()"
      ],
      "id": "25b99ea4"
    },
    {
      "cell_type": "markdown",
      "metadata": {},
      "source": [
        "\\[**A related quantity is the *mean*, also called the *average*.**\\] We\n",
        "calculate the mean by dividing the sum by the total number of elements.\n",
        "Because computing the mean is so common, it gets a dedicated library\n",
        "function that works analogously to `sum`."
      ],
      "id": "cc0979e7-64e6-4ff4-9e17-527c1863575c"
    },
    {
      "cell_type": "code",
      "execution_count": null,
      "metadata": {
        "execution": {
          "iopub.execute_input": "2023-08-18T19:41:53.635407Z",
          "iopub.status.busy": "2023-08-18T19:41:53.634799Z",
          "iopub.status.idle": "2023-08-18T19:41:53.642980Z",
          "shell.execute_reply": "2023-08-18T19:41:53.641833Z"
        },
        "origin_pos": 71,
        "outputId": "f84b5815-6416-490f-98f8-0dde677600e4",
        "tab": [
          "pytorch"
        ]
      },
      "outputs": [
        {
          "output_type": "display_data",
          "metadata": {},
          "data": {
            "text/plain": [
              "(tensor(2.5000), tensor(2.5000))"
            ]
          }
        }
      ],
      "source": [
        "A.mean(), A.sum() / A.numel()"
      ],
      "id": "9f41e037"
    },
    {
      "cell_type": "markdown",
      "metadata": {},
      "source": [
        "Likewise, the function for calculating the mean can also reduce a tensor\n",
        "along specific axes."
      ],
      "id": "40788a55-8589-490d-8ab1-9a66704026fe"
    },
    {
      "cell_type": "code",
      "execution_count": null,
      "metadata": {
        "execution": {
          "iopub.execute_input": "2023-08-18T19:41:53.646514Z",
          "iopub.status.busy": "2023-08-18T19:41:53.645792Z",
          "iopub.status.idle": "2023-08-18T19:41:53.653946Z",
          "shell.execute_reply": "2023-08-18T19:41:53.652643Z"
        },
        "origin_pos": 74,
        "outputId": "1040c840-972e-46a8-c048-a2bbc1397047",
        "tab": [
          "pytorch"
        ]
      },
      "outputs": [
        {
          "output_type": "display_data",
          "metadata": {},
          "data": {
            "text/plain": [
              "(tensor([1.5000, 2.5000, 3.5000]), tensor([1.5000, 2.5000, 3.5000]))"
            ]
          }
        }
      ],
      "source": [
        "A.mean(axis=0), A.sum(axis=0) / A.shape[0]"
      ],
      "id": "f268d8be"
    },
    {
      "cell_type": "markdown",
      "metadata": {},
      "source": [
        "## Non-Reduction Sum\n",
        "\n",
        ":label:`subsec_lin-alg-non-reduction`\n",
        "\n",
        "Sometimes it can be useful to \\[**keep the number of axes unchanged**\\]\n",
        "when invoking the function for calculating the sum or mean. This matters\n",
        "when we want to use the broadcast mechanism."
      ],
      "id": "74e4f42c-a86f-4c4e-8d54-ded3904857ab"
    },
    {
      "cell_type": "code",
      "execution_count": null,
      "metadata": {
        "execution": {
          "iopub.execute_input": "2023-08-18T19:41:53.658423Z",
          "iopub.status.busy": "2023-08-18T19:41:53.658026Z",
          "iopub.status.idle": "2023-08-18T19:41:53.666522Z",
          "shell.execute_reply": "2023-08-18T19:41:53.665397Z"
        },
        "origin_pos": 77,
        "outputId": "0d15ba0a-b18e-440c-f6ac-1175b056e878",
        "tab": [
          "pytorch"
        ]
      },
      "outputs": [
        {
          "output_type": "display_data",
          "metadata": {},
          "data": {
            "text/plain": [
              "(tensor([[ 3.],\n",
              "         [12.]]),\n",
              " torch.Size([2, 1]))"
            ]
          }
        }
      ],
      "source": [
        "sum_A = A.sum(axis=1, keepdims=True)\n",
        "sum_A, sum_A.shape"
      ],
      "id": "863c5aca"
    },
    {
      "cell_type": "markdown",
      "metadata": {},
      "source": [
        "For instance, since `sum_A` keeps its two axes after summing each row,\n",
        "we can (**divide `A` by `sum_A` with broadcasting**) to create a matrix\n",
        "where each row sums up to $1$."
      ],
      "id": "e12a49af-e373-4463-870b-92af8248038b"
    },
    {
      "cell_type": "code",
      "execution_count": null,
      "metadata": {
        "execution": {
          "iopub.execute_input": "2023-08-18T19:41:53.669896Z",
          "iopub.status.busy": "2023-08-18T19:41:53.669623Z",
          "iopub.status.idle": "2023-08-18T19:41:53.675548Z",
          "shell.execute_reply": "2023-08-18T19:41:53.674706Z"
        },
        "origin_pos": 80,
        "outputId": "6e253768-0786-4adb-8877-3a2a0a5c5739",
        "tab": [
          "pytorch"
        ]
      },
      "outputs": [
        {
          "output_type": "display_data",
          "metadata": {},
          "data": {
            "text/plain": [
              "tensor([[0.0000, 0.3333, 0.6667],\n",
              "        [0.2500, 0.3333, 0.4167]])"
            ]
          }
        }
      ],
      "source": [
        "A / sum_A"
      ],
      "id": "93d20f26"
    },
    {
      "cell_type": "markdown",
      "metadata": {},
      "source": [
        "If we want to calculate \\[**the cumulative sum of elements of `A` along\n",
        "some axis**\\], say `axis=0` (row by row), we can call the `cumsum`\n",
        "function. By design, this function does not reduce the input tensor\n",
        "along any axis."
      ],
      "id": "70ce5792-4f66-45be-9069-8d8d24c0caed"
    },
    {
      "cell_type": "code",
      "execution_count": null,
      "metadata": {
        "execution": {
          "iopub.execute_input": "2023-08-18T19:41:53.678804Z",
          "iopub.status.busy": "2023-08-18T19:41:53.678536Z",
          "iopub.status.idle": "2023-08-18T19:41:53.684437Z",
          "shell.execute_reply": "2023-08-18T19:41:53.683619Z"
        },
        "origin_pos": 82,
        "outputId": "458ccf56-32f3-43ae-800c-6d6698234532",
        "tab": [
          "pytorch"
        ]
      },
      "outputs": [
        {
          "output_type": "display_data",
          "metadata": {},
          "data": {
            "text/plain": [
              "tensor([[0., 1., 2.],\n",
              "        [3., 5., 7.]])"
            ]
          }
        }
      ],
      "source": [
        "A.cumsum(axis=0)"
      ],
      "id": "e2de0ae7"
    },
    {
      "cell_type": "markdown",
      "metadata": {},
      "source": [
        "## Dot Products\n",
        "\n",
        "So far, we have only performed elementwise operations, sums, and\n",
        "averages. And if this was all we could do, linear algebra would not\n",
        "deserve its own section. Fortunately, this is where things get more\n",
        "interesting. One of the most fundamental operations is the dot product.\n",
        "Given two vectors $\\mathbf{x}, \\mathbf{y} \\in \\mathbb{R}^d$, their *dot\n",
        "product* $\\mathbf{x}^\\top \\mathbf{y}$ (also known as *inner product*,\n",
        "$\\langle \\mathbf{x}, \\mathbf{y}  \\rangle$) is a sum over the products of\n",
        "the elements at the same position:\n",
        "$\\mathbf{x}^\\top \\mathbf{y} = \\sum_{i=1}^{d} x_i y_i$.\n",
        "\n",
        "\\[~~The *dot product* of two vectors is a sum over the products of the\n",
        "elements at the same position~~\\]"
      ],
      "id": "4d752210-3420-4cf6-b1b6-bfca8d73b465"
    },
    {
      "cell_type": "code",
      "execution_count": null,
      "metadata": {
        "execution": {
          "iopub.execute_input": "2023-08-18T19:41:53.687734Z",
          "iopub.status.busy": "2023-08-18T19:41:53.687178Z",
          "iopub.status.idle": "2023-08-18T19:41:53.696147Z",
          "shell.execute_reply": "2023-08-18T19:41:53.695369Z"
        },
        "origin_pos": 86,
        "outputId": "cd1258c8-95e8-49cd-c065-3183d129dff4",
        "tab": [
          "pytorch"
        ]
      },
      "outputs": [
        {
          "output_type": "display_data",
          "metadata": {},
          "data": {
            "text/plain": [
              "(tensor([0., 1., 2.]), tensor([1., 1., 1.]), tensor(3.))"
            ]
          }
        }
      ],
      "source": [
        "y = torch.ones(3, dtype = torch.float32)\n",
        "x, y, torch.dot(x, y)"
      ],
      "id": "5575e11a"
    },
    {
      "cell_type": "markdown",
      "metadata": {},
      "source": [
        "Equivalently, (**we can calculate the dot product of two vectors by\n",
        "performing an elementwise multiplication followed by a sum:**)"
      ],
      "id": "9959e404-d7af-4700-9bc8-bbabbe40b2b8"
    },
    {
      "cell_type": "code",
      "execution_count": null,
      "metadata": {
        "execution": {
          "iopub.execute_input": "2023-08-18T19:41:53.699396Z",
          "iopub.status.busy": "2023-08-18T19:41:53.698843Z",
          "iopub.status.idle": "2023-08-18T19:41:53.704931Z",
          "shell.execute_reply": "2023-08-18T19:41:53.703664Z"
        },
        "origin_pos": 91,
        "outputId": "b655a933-a5b1-4f14-8ab3-312a1ace87e7",
        "tab": [
          "pytorch"
        ]
      },
      "outputs": [
        {
          "output_type": "display_data",
          "metadata": {},
          "data": {
            "text/plain": [
              "tensor(3.)"
            ]
          }
        }
      ],
      "source": [
        "torch.sum(x * y)"
      ],
      "id": "b5186254"
    },
    {
      "cell_type": "markdown",
      "metadata": {},
      "source": [
        "Dot products are useful in a wide range of contexts. For example, given\n",
        "some set of values, denoted by a vector $\\mathbf{x}  \\in \\mathbb{R}^n$,\n",
        "and a set of weights, denoted by $\\mathbf{w} \\in \\mathbb{R}^n$, the\n",
        "weighted sum of the values in $\\mathbf{x}$ according to the weights\n",
        "$\\mathbf{w}$ could be expressed as the dot product\n",
        "$\\mathbf{x}^\\top \\mathbf{w}$. When the weights are nonnegative and sum\n",
        "to $1$, i.e., $\\left(\\sum_{i=1}^{n} {w_i} = 1\\right)$, the dot product\n",
        "expresses a *weighted average*. After normalizing two vectors to have\n",
        "unit length, the dot products express the cosine of the angle between\n",
        "them. Later in this section, we will formally introduce this notion of\n",
        "*length*.\n",
        "\n",
        "## Matrix–Vector Products\n",
        "\n",
        "Now that we know how to calculate dot products, we can begin to\n",
        "understand the *product* between an $m \\times n$ matrix $\\mathbf{A}$ and\n",
        "an $n$-dimensional vector $\\mathbf{x}$. To start off, we visualize our\n",
        "matrix in terms of its row vectors\n",
        "\n",
        "$$\\mathbf{A}=\n",
        "\\begin{bmatrix}\n",
        "\\mathbf{a}^\\top_{1} \\\\\n",
        "\\mathbf{a}^\\top_{2} \\\\\n",
        "\\vdots \\\\\n",
        "\\mathbf{a}^\\top_m \\\\\n",
        "\\end{bmatrix},$$\n",
        "\n",
        "where each $\\mathbf{a}^\\top_{i} \\in \\mathbb{R}^n$ is a row vector\n",
        "representing the $i^\\textrm{th}$ row of the matrix $\\mathbf{A}$.\n",
        "\n",
        "\\[**The matrix–vector product $\\mathbf{A}\\mathbf{x}$ is simply a column\n",
        "vector of length $m$, whose $i^\\textrm{th}$ element is the dot product\n",
        "$\\mathbf{a}^\\top_i \\mathbf{x}$:**\\]\n",
        "\n",
        "$$\n",
        "\\mathbf{A}\\mathbf{x}\n",
        "= \\begin{bmatrix}\n",
        "\\mathbf{a}^\\top_{1} \\\\\n",
        "\\mathbf{a}^\\top_{2} \\\\\n",
        "\\vdots \\\\\n",
        "\\mathbf{a}^\\top_m \\\\\n",
        "\\end{bmatrix}\\mathbf{x}\n",
        "= \\begin{bmatrix}\n",
        " \\mathbf{a}^\\top_{1} \\mathbf{x}  \\\\\n",
        " \\mathbf{a}^\\top_{2} \\mathbf{x} \\\\\n",
        "\\vdots\\\\\n",
        " \\mathbf{a}^\\top_{m} \\mathbf{x}\\\\\n",
        "\\end{bmatrix}.\n",
        "$$\n",
        "\n",
        "We can think of multiplication with a matrix\n",
        "$\\mathbf{A}\\in \\mathbb{R}^{m \\times n}$ as a transformation that\n",
        "projects vectors from $\\mathbb{R}^{n}$ to $\\mathbb{R}^{m}$. These\n",
        "transformations are remarkably useful. For example, we can represent\n",
        "rotations as multiplications by certain square matrices. Matrix–vector\n",
        "products also describe the key calculation involved in computing the\n",
        "outputs of each layer in a neural network given the outputs from the\n",
        "previous layer.\n",
        "\n",
        "To express a matrix–vector product in code, we use the `mv` function.\n",
        "Note that the column dimension of `A` (its length along axis 1) must be\n",
        "the same as the dimension of `x` (its length). Python has a convenience\n",
        "operator `@` that can execute both matrix–vector and matrix–matrix\n",
        "products (depending on its arguments). Thus we can write `A@x`."
      ],
      "id": "92da4c2c-2d40-40d8-b39e-b1ca6cfd013f"
    },
    {
      "cell_type": "code",
      "execution_count": null,
      "metadata": {
        "execution": {
          "iopub.execute_input": "2023-08-18T19:41:53.710181Z",
          "iopub.status.busy": "2023-08-18T19:41:53.709041Z",
          "iopub.status.idle": "2023-08-18T19:41:53.719479Z",
          "shell.execute_reply": "2023-08-18T19:41:53.718068Z"
        },
        "origin_pos": 99,
        "outputId": "83332931-3c3b-45a0-ac68-04330b66826d",
        "tab": [
          "pytorch"
        ]
      },
      "outputs": [
        {
          "output_type": "display_data",
          "metadata": {},
          "data": {
            "text/plain": [
              "(torch.Size([2, 3]), torch.Size([3]), tensor([ 5., 14.]), tensor([ 5., 14.]))"
            ]
          }
        }
      ],
      "source": [
        "A.shape, x.shape, torch.mv(A, x), A@x"
      ],
      "id": "1a99c29a"
    },
    {
      "cell_type": "markdown",
      "metadata": {},
      "source": [
        "## Matrix–Matrix Multiplication\n",
        "\n",
        "Once you have gotten the hang of dot products and matrix–vector\n",
        "products, then *matrix–matrix multiplication* should be straightforward.\n",
        "\n",
        "Say that we have two matrices $\\mathbf{A} \\in \\mathbb{R}^{n \\times k}$\n",
        "and $\\mathbf{B} \\in \\mathbb{R}^{k \\times m}$:\n",
        "\n",
        "$$\\mathbf{A}=\\begin{bmatrix}\n",
        " a_{11} & a_{12} & \\cdots & a_{1k} \\\\\n",
        " a_{21} & a_{22} & \\cdots & a_{2k} \\\\\n",
        "\\vdots & \\vdots & \\ddots & \\vdots \\\\\n",
        " a_{n1} & a_{n2} & \\cdots & a_{nk} \\\\\n",
        "\\end{bmatrix},\\quad\n",
        "\\mathbf{B}=\\begin{bmatrix}\n",
        " b_{11} & b_{12} & \\cdots & b_{1m} \\\\\n",
        " b_{21} & b_{22} & \\cdots & b_{2m} \\\\\n",
        "\\vdots & \\vdots & \\ddots & \\vdots \\\\\n",
        " b_{k1} & b_{k2} & \\cdots & b_{km} \\\\\n",
        "\\end{bmatrix}.$$\n",
        "\n",
        "Let $\\mathbf{a}^\\top_{i} \\in \\mathbb{R}^k$ denote the row vector\n",
        "representing the $i^\\textrm{th}$ row of the matrix $\\mathbf{A}$ and let\n",
        "$\\mathbf{b}_{j} \\in \\mathbb{R}^k$ denote the column vector from the\n",
        "$j^\\textrm{th}$ column of the matrix $\\mathbf{B}$:\n",
        "\n",
        "$$\\mathbf{A}=\n",
        "\\begin{bmatrix}\n",
        "\\mathbf{a}^\\top_{1} \\\\\n",
        "\\mathbf{a}^\\top_{2} \\\\\n",
        "\\vdots \\\\\n",
        "\\mathbf{a}^\\top_n \\\\\n",
        "\\end{bmatrix},\n",
        "\\quad \\mathbf{B}=\\begin{bmatrix}\n",
        " \\mathbf{b}_{1} & \\mathbf{b}_{2} & \\cdots & \\mathbf{b}_{m} \\\\\n",
        "\\end{bmatrix}.\n",
        "$$\n",
        "\n",
        "To form the matrix product $\\mathbf{C} \\in \\mathbb{R}^{n \\times m}$, we\n",
        "simply compute each element $c_{ij}$ as the dot product between the\n",
        "$i^{\\textrm{th}}$ row of $\\mathbf{A}$ and the $j^{\\textrm{th}}$ column\n",
        "of $\\mathbf{B}$, i.e., $\\mathbf{a}^\\top_i \\mathbf{b}_j$:\n",
        "\n",
        "$$\\mathbf{C} = \\mathbf{AB} = \\begin{bmatrix}\n",
        "\\mathbf{a}^\\top_{1} \\\\\n",
        "\\mathbf{a}^\\top_{2} \\\\\n",
        "\\vdots \\\\\n",
        "\\mathbf{a}^\\top_n \\\\\n",
        "\\end{bmatrix}\n",
        "\\begin{bmatrix}\n",
        " \\mathbf{b}_{1} & \\mathbf{b}_{2} & \\cdots & \\mathbf{b}_{m} \\\\\n",
        "\\end{bmatrix}\n",
        "= \\begin{bmatrix}\n",
        "\\mathbf{a}^\\top_{1} \\mathbf{b}_1 & \\mathbf{a}^\\top_{1}\\mathbf{b}_2& \\cdots & \\mathbf{a}^\\top_{1} \\mathbf{b}_m \\\\\n",
        " \\mathbf{a}^\\top_{2}\\mathbf{b}_1 & \\mathbf{a}^\\top_{2} \\mathbf{b}_2 & \\cdots & \\mathbf{a}^\\top_{2} \\mathbf{b}_m \\\\\n",
        " \\vdots & \\vdots & \\ddots &\\vdots\\\\\n",
        "\\mathbf{a}^\\top_{n} \\mathbf{b}_1 & \\mathbf{a}^\\top_{n}\\mathbf{b}_2& \\cdots& \\mathbf{a}^\\top_{n} \\mathbf{b}_m\n",
        "\\end{bmatrix}.\n",
        "$$\n",
        "\n",
        "\\[**We can think of the matrix–matrix multiplication $\\mathbf{AB}$ as\n",
        "performing $m$ matrix–vector products or $m \\times n$ dot products and\n",
        "stitching the results together to form an $n \\times m$ matrix.**\\] In\n",
        "the following snippet, we perform matrix multiplication on `A` and `B`.\n",
        "Here, `A` is a matrix with two rows and three columns, and `B` is a\n",
        "matrix with three rows and four columns. After multiplication, we obtain\n",
        "a matrix with two rows and four columns."
      ],
      "id": "78f83c3b-8716-4e7e-b06e-5c1ad3825eac"
    },
    {
      "cell_type": "code",
      "execution_count": null,
      "metadata": {
        "execution": {
          "iopub.execute_input": "2023-08-18T19:41:53.723651Z",
          "iopub.status.busy": "2023-08-18T19:41:53.722762Z",
          "iopub.status.idle": "2023-08-18T19:41:53.732227Z",
          "shell.execute_reply": "2023-08-18T19:41:53.731088Z"
        },
        "origin_pos": 104,
        "outputId": "ee4299c4-0508-4d9c-f382-aecb507d93df",
        "tab": [
          "pytorch"
        ]
      },
      "outputs": [
        {
          "output_type": "display_data",
          "metadata": {},
          "data": {
            "text/plain": [
              "(tensor([[ 3.,  3.,  3.,  3.],\n",
              "         [12., 12., 12., 12.]]),\n",
              " tensor([[ 3.,  3.,  3.,  3.],\n",
              "         [12., 12., 12., 12.]]))"
            ]
          }
        }
      ],
      "source": [
        "B = torch.ones(3, 4)\n",
        "torch.mm(A, B), A@B"
      ],
      "id": "99535047"
    },
    {
      "cell_type": "markdown",
      "metadata": {},
      "source": [
        "The term *matrix–matrix multiplication* is often simplified to *matrix\n",
        "multiplication*, and should not be confused with the Hadamard product.\n",
        "\n",
        "## Norms\n",
        "\n",
        "Some of the most useful operators in linear algebra are *norms*.\n",
        "Informally, the norm of a vector tells us how *big* it is. For instance,\n",
        "the $\\ell_2$ norm measures the (Euclidean) length of a vector. Here, we\n",
        "are employing a notion of *size* that concerns the magnitude of a\n",
        "vector’s components (not its dimensionality).\n",
        "\n",
        "A norm is a function $\\| \\cdot \\|$ that maps a vector to a scalar and\n",
        "satisfies the following three properties:\n",
        "\n",
        "1.  Given any vector $\\mathbf{x}$, if we scale (all elements of) the\n",
        "    vector by a scalar $\\alpha \\in \\mathbb{R}$, its norm scales\n",
        "    accordingly: $$\\|\\alpha \\mathbf{x}\\| = |\\alpha| \\|\\mathbf{x}\\|.$$\n",
        "2.  For any vectors $\\mathbf{x}$ and $\\mathbf{y}$: norms satisfy the\n",
        "    triangle inequality:\n",
        "    $$\\|\\mathbf{x} + \\mathbf{y}\\| \\leq \\|\\mathbf{x}\\| + \\|\\mathbf{y}\\|.$$\n",
        "3.  The norm of a vector is nonnegative and it only vanishes if the\n",
        "    vector is zero:\n",
        "    $$\\|\\mathbf{x}\\| > 0 \\textrm{ for all } \\mathbf{x} \\neq 0.$$\n",
        "\n",
        "Many functions are valid norms and different norms encode different\n",
        "notions of size. The Euclidean norm that we all learned in elementary\n",
        "school geometry when calculating the hypotenuse of a right triangle is\n",
        "the square root of the sum of squares of a vector’s elements. Formally,\n",
        "this is called \\[**the $\\ell_2$ *norm***\\] and expressed as\n",
        "\n",
        "(**$$\\|\\mathbf{x}\\|_2 = \\sqrt{\\sum_{i=1}^n x_i^2}.$$**)\n",
        "\n",
        "The method `norm` calculates the $\\ell_2$ norm."
      ],
      "id": "828088b7-bc94-4fa4-9738-dd3604b1649c"
    },
    {
      "cell_type": "code",
      "execution_count": null,
      "metadata": {
        "execution": {
          "iopub.execute_input": "2023-08-18T19:41:53.735890Z",
          "iopub.status.busy": "2023-08-18T19:41:53.735108Z",
          "iopub.status.idle": "2023-08-18T19:41:53.742412Z",
          "shell.execute_reply": "2023-08-18T19:41:53.741311Z"
        },
        "origin_pos": 109,
        "outputId": "27e5cd6c-f9ab-4288-9c06-dab95a920950",
        "tab": [
          "pytorch"
        ]
      },
      "outputs": [
        {
          "output_type": "display_data",
          "metadata": {},
          "data": {
            "text/plain": [
              "tensor(5.)"
            ]
          }
        }
      ],
      "source": [
        "u = torch.tensor([3.0, -4.0])\n",
        "torch.norm(u)"
      ],
      "id": "e215c544"
    },
    {
      "cell_type": "markdown",
      "metadata": {},
      "source": [
        "\\[**The $\\ell_1$ norm**\\] is also common and the associated measure is\n",
        "called the Manhattan distance. By definition, the $\\ell_1$ norm sums the\n",
        "absolute values of a vector’s elements:\n",
        "\n",
        "(**$$\\|\\mathbf{x}\\|_1 = \\sum_{i=1}^n \\left|x_i \\right|.$$**)\n",
        "\n",
        "Compared to the $\\ell_2$ norm, it is less sensitive to outliers. To\n",
        "compute the $\\ell_1$ norm, we compose the absolute value with the sum\n",
        "operation."
      ],
      "id": "38e34897-a171-4199-b5f2-1a5e049c9bc0"
    },
    {
      "cell_type": "code",
      "execution_count": null,
      "metadata": {
        "execution": {
          "iopub.execute_input": "2023-08-18T19:41:53.746107Z",
          "iopub.status.busy": "2023-08-18T19:41:53.745359Z",
          "iopub.status.idle": "2023-08-18T19:41:53.752438Z",
          "shell.execute_reply": "2023-08-18T19:41:53.751302Z"
        },
        "origin_pos": 114,
        "outputId": "708f0801-3e52-442e-f99b-ca708e873cf4",
        "tab": [
          "pytorch"
        ]
      },
      "outputs": [
        {
          "output_type": "display_data",
          "metadata": {},
          "data": {
            "text/plain": [
              "tensor(7.)"
            ]
          }
        }
      ],
      "source": [
        "torch.abs(u).sum()"
      ],
      "id": "8a3e0562"
    },
    {
      "cell_type": "markdown",
      "metadata": {},
      "source": [
        "Both the $\\ell_2$ and $\\ell_1$ norms are special cases of the more\n",
        "general $\\ell_p$ *norms*:\n",
        "\n",
        "$$\\|\\mathbf{x}\\|_p = \\left(\\sum_{i=1}^n \\left|x_i \\right|^p \\right)^{1/p}.$$\n",
        "\n",
        "In the case of matrices, matters are more complicated. After all,\n",
        "matrices can be viewed both as collections of individual entries *and*\n",
        "as objects that operate on vectors and transform them into other\n",
        "vectors. For instance, we can ask by how much longer the matrix–vector\n",
        "product $\\mathbf{X} \\mathbf{v}$ could be relative to $\\mathbf{v}$. This\n",
        "line of thought leads to what is called the *spectral* norm. For now, we\n",
        "introduce \\[**the *Frobenius norm*, which is much easier to compute**\\]\n",
        "and defined as the square root of the sum of the squares of a matrix’s\n",
        "elements:\n",
        "\n",
        "\\[**$$\\|\\mathbf{X}\\|_\\textrm{F} = \\sqrt{\\sum_{i=1}^m \\sum_{j=1}^n x_{ij}^2}.$$**\\]\n",
        "\n",
        "The Frobenius norm behaves as if it were an $\\ell_2$ norm of a\n",
        "matrix-shaped vector. Invoking the following function will calculate the\n",
        "Frobenius norm of a matrix."
      ],
      "id": "a3ad546d-9397-4d7d-89ff-825ff43dde06"
    },
    {
      "cell_type": "code",
      "execution_count": null,
      "metadata": {
        "execution": {
          "iopub.execute_input": "2023-08-18T19:41:53.756072Z",
          "iopub.status.busy": "2023-08-18T19:41:53.755281Z",
          "iopub.status.idle": "2023-08-18T19:41:53.762237Z",
          "shell.execute_reply": "2023-08-18T19:41:53.761172Z"
        },
        "origin_pos": 119,
        "outputId": "efff4f47-941d-4d72-bde9-53c9d87e4e41",
        "tab": [
          "pytorch"
        ]
      },
      "outputs": [
        {
          "output_type": "display_data",
          "metadata": {},
          "data": {
            "text/plain": [
              "tensor(6.)"
            ]
          }
        }
      ],
      "source": [
        "torch.norm(torch.ones((4, 9)))"
      ],
      "id": "3e00a124"
    },
    {
      "cell_type": "markdown",
      "metadata": {},
      "source": [
        "While we do not want to get too far ahead of ourselves, we already can\n",
        "plant some intuition about why these concepts are useful. In deep\n",
        "learning, we are often trying to solve optimization problems: *maximize*\n",
        "the probability assigned to observed data; *maximize* the revenue\n",
        "associated with a recommender model; *minimize* the distance between\n",
        "predictions and the ground truth observations; *minimize* the distance\n",
        "between representations of photos of the same person while *maximizing*\n",
        "the distance between representations of photos of different people.\n",
        "These distances, which constitute the objectives of deep learning\n",
        "algorithms, are often expressed as norms.\n",
        "\n",
        "## Discussion\n",
        "\n",
        "In this section, we have reviewed all the linear algebra that you will\n",
        "need to understand a significant chunk of modern deep learning. There is\n",
        "a lot more to linear algebra, though, and much of it is useful for\n",
        "machine learning. For example, matrices can be decomposed into factors,\n",
        "and these decompositions can reveal low-dimensional structure in\n",
        "real-world datasets. There are entire subfields of machine learning that\n",
        "focus on using matrix decompositions and their generalizations to\n",
        "high-order tensors to discover structure in datasets and solve\n",
        "prediction problems. But this book focuses on deep learning. And we\n",
        "believe you will be more inclined to learn more mathematics once you\n",
        "have gotten your hands dirty applying machine learning to real datasets.\n",
        "So while we reserve the right to introduce more mathematics later on, we\n",
        "wrap up this section here.\n",
        "\n",
        "If you are eager to learn more linear algebra, there are many excellent\n",
        "books and online resources. For a more advanced crash course, consider\n",
        "checking out :citet:`Strang.1993`, :citet:`Kolter.2008`, and\n",
        ":citet:`Petersen.Pedersen.ea.2008`.\n",
        "\n",
        "To recap:\n",
        "\n",
        "-   Scalars, vectors, matrices, and tensors are the basic mathematical\n",
        "    objects used in linear algebra and have zero, one, two, and an\n",
        "    arbitrary number of axes, respectively.\n",
        "-   Tensors can be sliced or reduced along specified axes via indexing,\n",
        "    or operations such as `sum` and `mean`, respectively.\n",
        "-   Elementwise products are called Hadamard products. By contrast, dot\n",
        "    products, matrix–vector products, and matrix–matrix products are not\n",
        "    elementwise operations and in general return objects having shapes\n",
        "    that are different from the the operands.\n",
        "-   Compared to Hadamard products, matrix–matrix products take\n",
        "    considerably longer to compute (cubic rather than quadratic time).\n",
        "-   Norms capture various notions of the magnitude of a vector (or\n",
        "    matrix), and are commonly applied to the difference of two vectors\n",
        "    to measure their distance apart.\n",
        "-   Common vector norms include the $\\ell_1$ and $\\ell_2$ norms, and\n",
        "    common matrix norms include the *spectral* and *Frobenius* norms.\n",
        "\n",
        "## Exercises\n",
        "\n",
        "1.  Prove that the transpose of the transpose of a matrix is the matrix\n",
        "    itself: $(\\mathbf{A}^\\top)^\\top = \\mathbf{A}$.\n",
        "2.  Given two matrices $\\mathbf{A}$ and $\\mathbf{B}$, show that sum and\n",
        "    transposition commute:\n",
        "    $\\mathbf{A}^\\top + \\mathbf{B}^\\top = (\\mathbf{A} + \\mathbf{B})^\\top$.\n",
        "3.  Given any square matrix $\\mathbf{A}$, is\n",
        "    $\\mathbf{A} + \\mathbf{A}^\\top$ always symmetric? Can you prove the\n",
        "    result by using only the results of the previous two exercises?\n",
        "4.  We defined the tensor `X` of shape (2, 3, 4) in this section. What\n",
        "    is the output of `len(X)`? Write your answer without implementing\n",
        "    any code, then check your answer using code.\n",
        "5.  For a tensor `X` of arbitrary shape, does `len(X)` always correspond\n",
        "    to the length of a certain axis of `X`? What is that axis?\n",
        "6.  Run `A / A.sum(axis=1)` and see what happens. Can you analyze the\n",
        "    results?\n",
        "7.  When traveling between two points in downtown Manhattan, what is the\n",
        "    distance that you need to cover in terms of the coordinates, i.e.,\n",
        "    in terms of avenues and streets? Can you travel diagonally?\n",
        "8.  Consider a tensor of shape (2, 3, 4). What are the shapes of the\n",
        "    summation outputs along axes 0, 1, and 2?\n",
        "9.  Feed a tensor with three or more axes to the `linalg.norm` function\n",
        "    and observe its output. What does this function compute for tensors\n",
        "    of arbitrary shape?\n",
        "10. Consider three large matrices, say\n",
        "    $\\mathbf{A} \\in \\mathbb{R}^{2^{10} \\times 2^{16}}$,\n",
        "    $\\mathbf{B} \\in \\mathbb{R}^{2^{16} \\times 2^{5}}$ and\n",
        "    $\\mathbf{C} \\in \\mathbb{R}^{2^{5} \\times 2^{14}}$, initialized with\n",
        "    Gaussian random variables. You want to compute the product\n",
        "    $\\mathbf{A} \\mathbf{B} \\mathbf{C}$. Is there any difference in\n",
        "    memory footprint and speed, depending on whether you compute\n",
        "    $(\\mathbf{A} \\mathbf{B}) \\mathbf{C}$ or\n",
        "    $\\mathbf{A} (\\mathbf{B} \\mathbf{C})$. Why?\n",
        "11. Consider three large matrices, say\n",
        "    $\\mathbf{A} \\in \\mathbb{R}^{2^{10} \\times 2^{16}}$,\n",
        "    $\\mathbf{B} \\in \\mathbb{R}^{2^{16} \\times 2^{5}}$ and\n",
        "    $\\mathbf{C} \\in \\mathbb{R}^{2^{5} \\times 2^{16}}$. Is there any\n",
        "    difference in speed depending on whether you compute\n",
        "    $\\mathbf{A} \\mathbf{B}$ or $\\mathbf{A} \\mathbf{C}^\\top$? Why? What\n",
        "    changes if you initialize $\\mathbf{C} = \\mathbf{B}^\\top$ without\n",
        "    cloning memory? Why?\n",
        "12. Consider three matrices, say\n",
        "    $\\mathbf{A}, \\mathbf{B}, \\mathbf{C} \\in \\mathbb{R}^{100 \\times 200}$.\n",
        "    Construct a tensor with three axes by stacking\n",
        "    $[\\mathbf{A}, \\mathbf{B}, \\mathbf{C}]$. What is the dimensionality?\n",
        "    Slice out the second coordinate of the third axis to recover\n",
        "    $\\mathbf{B}$. Check that your answer is correct."
      ],
      "id": "36f5397d-b776-47a8-8871-884a97a07fdd"
    }
  ],
  "nbformat": 4,
  "nbformat_minor": 5,
  "metadata": {
    "colab": {
      "provenance": []
    },
    "kernelspec": {
      "name": "python3",
      "display_name": "Python 3",
      "language": "python"
    },
    "language_info": {
      "name": "python"
    },
    "required_libs": []
  }
}
{
  "cells": [
    {
      "cell_type": "markdown",
      "metadata": {},
      "source": [
        "# 01.3 Automatic Differentiation\n",
        "\n",
        "Recall from Section Calculus that calculating derivatives is the crucial\n",
        "step in all the optimization algorithms that we will use to train deep\n",
        "networks. While the calculations are straightforward, working them out\n",
        "by hand can be tedious and error-prone, and these issues only grow as\n",
        "our models become more complex.\n",
        "\n",
        "Fortunately all modern deep learning frameworks take this work off our\n",
        "plates by offering *automatic differentiation* (often shortened to\n",
        "*autograd*). As we pass data through each successive function, the\n",
        "framework builds a *computational graph* that tracks how each value\n",
        "depends on others. To calculate derivatives, automatic differentiation\n",
        "works backwards through this graph applying the chain rule. The\n",
        "computational algorithm for applying the chain rule in this fashion is\n",
        "called *backpropagation*.\n",
        "\n",
        "While autograd libraries have become a hot concern over the past decade,\n",
        "they have a long history. In fact the earliest references to autograd\n",
        "date back over half of a century :cite:`Wengert.1964`. The core ideas\n",
        "behind modern backpropagation date to a PhD thesis from 1980\n",
        ":cite:`Speelpenning.1980` and were further developed in the late 1980s\n",
        ":cite:`Griewank.1989`. While backpropagation has become the default\n",
        "method for computing gradients, it is not the only option. For instance,\n",
        "the Julia programming language employs forward propagation\n",
        ":cite:`Revels.Lubin.Papamarkou.2016`. Before exploring methods, let’s\n",
        "first master the autograd package."
      ],
      "id": "1edbe3a5-db8c-4e45-a5ca-eac4244ef907"
    },
    {
      "cell_type": "code",
      "execution_count": null,
      "metadata": {
        "execution": {
          "iopub.execute_input": "2023-08-18T19:26:08.286501Z",
          "iopub.status.busy": "2023-08-18T19:26:08.285693Z",
          "iopub.status.idle": "2023-08-18T19:26:10.052257Z",
          "shell.execute_reply": "2023-08-18T19:26:10.050994Z"
        },
        "origin_pos": 3,
        "tab": [
          "pytorch"
        ]
      },
      "outputs": [],
      "source": [
        "import torch"
      ],
      "id": "130439cd"
    },
    {
      "cell_type": "markdown",
      "metadata": {},
      "source": [
        "## A Simple Function\n",
        "\n",
        "Let’s assume that we are interested in (**differentiating the function\n",
        "$y = 2\\mathbf{x}^{\\top}\\mathbf{x}$ with respect to the column vector\n",
        "$\\mathbf{x}$.**) To start, we assign `x` an initial value."
      ],
      "id": "705a9ef9-1cb8-45c7-946e-def323236e0c"
    },
    {
      "cell_type": "code",
      "execution_count": null,
      "metadata": {
        "attributes": {
          "classes": [],
          "id": "",
          "n": "7"
        },
        "execution": {
          "iopub.execute_input": "2023-08-18T19:26:10.056833Z",
          "iopub.status.busy": "2023-08-18T19:26:10.055871Z",
          "iopub.status.idle": "2023-08-18T19:26:10.084858Z",
          "shell.execute_reply": "2023-08-18T19:26:10.083727Z"
        },
        "origin_pos": 8,
        "outputId": "9f833a8e-1600-434a-d323-1f7e092a2e26",
        "tab": [
          "pytorch"
        ]
      },
      "outputs": [
        {
          "output_type": "display_data",
          "metadata": {},
          "data": {
            "text/plain": [
              "tensor([0., 1., 2., 3.])"
            ]
          }
        }
      ],
      "source": [
        "x = torch.arange(4.0)\n",
        "x"
      ],
      "id": "4253cfab"
    },
    {
      "cell_type": "markdown",
      "metadata": {},
      "source": [
        "\\[**Before we calculate the gradient of $y$ with respect to\n",
        "$\\mathbf{x}$, we need a place to store it.**\\] In general, we avoid\n",
        "allocating new memory every time we take a derivative because deep\n",
        "learning requires successively computing derivatives with respect to the\n",
        "same parameters a great many times, and we might risk running out of\n",
        "memory. Note that the gradient of a scalar-valued function with respect\n",
        "to a vector $\\mathbf{x}$ is vector-valued with the same shape as\n",
        "$\\mathbf{x}$."
      ],
      "id": "436de1ed-9db6-4da7-a635-b245115c3659"
    },
    {
      "cell_type": "code",
      "execution_count": null,
      "metadata": {
        "attributes": {
          "classes": [],
          "id": "",
          "n": "9"
        },
        "execution": {
          "iopub.execute_input": "2023-08-18T19:26:10.088716Z",
          "iopub.status.busy": "2023-08-18T19:26:10.087816Z",
          "iopub.status.idle": "2023-08-18T19:26:10.092878Z",
          "shell.execute_reply": "2023-08-18T19:26:10.091740Z"
        },
        "origin_pos": 13,
        "tab": [
          "pytorch"
        ]
      },
      "outputs": [],
      "source": [
        "# Can also create x = torch.arange(4.0, requires_grad=True)\n",
        "x.requires_grad_(True)\n",
        "x.grad  # The gradient is None by default"
      ],
      "id": "2a001d1e"
    },
    {
      "cell_type": "markdown",
      "metadata": {},
      "source": [
        "(**We now calculate our function of `x` and assign the result to `y`.**)"
      ],
      "id": "617f45d5-b59f-4e86-b639-b8a94c5c1714"
    },
    {
      "cell_type": "code",
      "execution_count": null,
      "metadata": {
        "attributes": {
          "classes": [],
          "id": "",
          "n": "11"
        },
        "execution": {
          "iopub.execute_input": "2023-08-18T19:26:10.096336Z",
          "iopub.status.busy": "2023-08-18T19:26:10.095772Z",
          "iopub.status.idle": "2023-08-18T19:26:10.105236Z",
          "shell.execute_reply": "2023-08-18T19:26:10.104075Z"
        },
        "origin_pos": 17,
        "outputId": "d21f974f-cc00-4ef3-9a39-2bdd28d5c118",
        "tab": [
          "pytorch"
        ]
      },
      "outputs": [
        {
          "output_type": "display_data",
          "metadata": {},
          "data": {
            "text/plain": [
              "tensor(28., grad_fn=<MulBackward0>)"
            ]
          }
        }
      ],
      "source": [
        "y = 2 * torch.dot(x, x)\n",
        "y"
      ],
      "id": "6e3bd777"
    },
    {
      "cell_type": "markdown",
      "metadata": {},
      "source": [
        "\\[**We can now take the gradient of `y` with respect to `x`**\\] by\n",
        "calling its `backward` method. Next, we can access the gradient via\n",
        "`x`’s `grad` attribute."
      ],
      "id": "b2ddc87b-eff0-409b-9d1b-e16285f0e29c"
    },
    {
      "cell_type": "code",
      "execution_count": null,
      "metadata": {
        "attributes": {
          "classes": [],
          "id": "",
          "n": "12"
        },
        "execution": {
          "iopub.execute_input": "2023-08-18T19:26:10.108600Z",
          "iopub.status.busy": "2023-08-18T19:26:10.108011Z",
          "iopub.status.idle": "2023-08-18T19:26:10.160854Z",
          "shell.execute_reply": "2023-08-18T19:26:10.159702Z"
        },
        "origin_pos": 25,
        "outputId": "879af498-f917-43e8-fe94-1781c2920d80",
        "tab": [
          "pytorch"
        ]
      },
      "outputs": [
        {
          "output_type": "display_data",
          "metadata": {},
          "data": {
            "text/plain": [
              "tensor([ 0.,  4.,  8., 12.])"
            ]
          }
        }
      ],
      "source": [
        "y.backward()\n",
        "x.grad"
      ],
      "id": "21b134ae"
    },
    {
      "cell_type": "markdown",
      "metadata": {},
      "source": [
        "(**We already know that the gradient of the function\n",
        "$y = 2\\mathbf{x}^{\\top}\\mathbf{x}$ with respect to $\\mathbf{x}$ should\n",
        "be $4\\mathbf{x}$.**) We can now verify that the automatic gradient\n",
        "computation and the expected result are identical."
      ],
      "id": "1483731b-8ccc-4345-a98d-544db21bbd76"
    },
    {
      "cell_type": "code",
      "execution_count": null,
      "metadata": {
        "attributes": {
          "classes": [],
          "id": "",
          "n": "14"
        },
        "execution": {
          "iopub.execute_input": "2023-08-18T19:26:10.164665Z",
          "iopub.status.busy": "2023-08-18T19:26:10.163930Z",
          "iopub.status.idle": "2023-08-18T19:26:10.171033Z",
          "shell.execute_reply": "2023-08-18T19:26:10.169923Z"
        },
        "origin_pos": 30,
        "outputId": "eade007f-d646-4136-fa90-aef1da04a860",
        "tab": [
          "pytorch"
        ]
      },
      "outputs": [
        {
          "output_type": "display_data",
          "metadata": {},
          "data": {
            "text/plain": [
              "tensor([True, True, True, True])"
            ]
          }
        }
      ],
      "source": [
        "x.grad == 4 * x"
      ],
      "id": "5030e37d"
    },
    {
      "cell_type": "markdown",
      "metadata": {},
      "source": [
        "\\[**Now let’s calculate another function of `x` and take its\n",
        "gradient.**\\] Note that PyTorch does not automatically reset the\n",
        "gradient buffer when we record a new gradient. Instead, the new gradient\n",
        "is added to the already-stored gradient. This behavior comes in handy\n",
        "when we want to optimize the sum of multiple objective functions. To\n",
        "reset the gradient buffer, we can call `x.grad.zero_()` as follows:"
      ],
      "id": "8fcee111-e562-49e3-aae7-bce50930da90"
    },
    {
      "cell_type": "code",
      "execution_count": null,
      "metadata": {
        "attributes": {
          "classes": [],
          "id": "",
          "n": "20"
        },
        "execution": {
          "iopub.execute_input": "2023-08-18T19:26:10.174691Z",
          "iopub.status.busy": "2023-08-18T19:26:10.173957Z",
          "iopub.status.idle": "2023-08-18T19:26:10.181847Z",
          "shell.execute_reply": "2023-08-18T19:26:10.180759Z"
        },
        "origin_pos": 37,
        "outputId": "6f404041-8eb3-47ac-fa2d-581c20fa8e30",
        "tab": [
          "pytorch"
        ]
      },
      "outputs": [
        {
          "output_type": "display_data",
          "metadata": {},
          "data": {
            "text/plain": [
              "tensor([1., 1., 1., 1.])"
            ]
          }
        }
      ],
      "source": [
        "x.grad.zero_()  # Reset the gradient\n",
        "y = x.sum()\n",
        "y.backward()\n",
        "x.grad"
      ],
      "id": "add5cf4b"
    },
    {
      "cell_type": "markdown",
      "metadata": {},
      "source": [
        "## Backward for Non-Scalar Variables\n",
        "\n",
        "When `y` is a vector, the most natural representation of the derivative\n",
        "of `y` with respect to a vector `x` is a matrix called the *Jacobian*\n",
        "that contains the partial derivatives of each component of `y` with\n",
        "respect to each component of `x`. Likewise, for higher-order `y` and\n",
        "`x`, the result of differentiation could be an even higher-order tensor.\n",
        "\n",
        "While Jacobians do show up in some advanced machine learning techniques,\n",
        "more commonly we want to sum up the gradients of each component of `y`\n",
        "with respect to the full vector `x`, yielding a vector of the same shape\n",
        "as `x`. For example, we often have a vector representing the value of\n",
        "our loss function calculated separately for each example among a *batch*\n",
        "of training examples. Here, we just want to (**sum up the gradients\n",
        "computed individually for each example**).\n",
        "\n",
        "Because deep learning frameworks vary in how they interpret gradients of\n",
        "non-scalar tensors, PyTorch takes some steps to avoid confusion.\n",
        "Invoking `backward` on a non-scalar elicits an error unless we tell\n",
        "PyTorch how to reduce the object to a scalar. More formally, we need to\n",
        "provide some vector $\\mathbf{v}$ such that `backward` will compute\n",
        "$\\mathbf{v}^\\top \\partial_{\\mathbf{x}} \\mathbf{y}$ rather than\n",
        "$\\partial_{\\mathbf{x}} \\mathbf{y}$. This next part may be confusing, but\n",
        "for reasons that will become clear later, this argument (representing\n",
        "$\\mathbf{v}$) is named `gradient`. For a more detailed description, see\n",
        "Yang Zhang’s [Medium\n",
        "post](https://zhang-yang.medium.com/the-gradient-argument-in-pytorchs-backward-function-explained-by-examples-68f266950c29)."
      ],
      "id": "a965d5ca-f4dd-471c-becd-113f1e5dd15a"
    },
    {
      "cell_type": "code",
      "execution_count": null,
      "metadata": {
        "execution": {
          "iopub.execute_input": "2023-08-18T19:26:10.185096Z",
          "iopub.status.busy": "2023-08-18T19:26:10.184685Z",
          "iopub.status.idle": "2023-08-18T19:26:10.192537Z",
          "shell.execute_reply": "2023-08-18T19:26:10.191435Z"
        },
        "origin_pos": 45,
        "outputId": "4178aafa-6afd-4b6d-a863-f258a21b5cb2",
        "tab": [
          "pytorch"
        ]
      },
      "outputs": [
        {
          "output_type": "display_data",
          "metadata": {},
          "data": {
            "text/plain": [
              "tensor([0., 2., 4., 6.])"
            ]
          }
        }
      ],
      "source": [
        "x.grad.zero_()\n",
        "y = x * x\n",
        "y.backward(gradient=torch.ones(len(y)))  # Faster: y.sum().backward()\n",
        "x.grad"
      ],
      "id": "1baa40bd"
    },
    {
      "cell_type": "markdown",
      "metadata": {},
      "source": [
        "## Detaching Computation\n",
        "\n",
        "Sometimes, we wish to \\[**move some calculations outside of the recorded\n",
        "computational graph.**\\] For example, say that we use the input to\n",
        "create some auxiliary intermediate terms for which we do not want to\n",
        "compute a gradient. In this case, we need to *detach* the respective\n",
        "computational graph from the final result. The following toy example\n",
        "makes this clearer: suppose we have `z = x * y` and `y = x * x` but we\n",
        "want to focus on the *direct* influence of `x` on `z` rather than the\n",
        "influence conveyed via `y`. In this case, we can create a new variable\n",
        "`u` that takes the same value as `y` but whose *provenance* (how it was\n",
        "created) has been wiped out. Thus `u` has no ancestors in the graph and\n",
        "gradients do not flow through `u` to `x`. For example, taking the\n",
        "gradient of `z = x * u` will yield the result `u`, (not `3 * x * x` as\n",
        "you might have expected since `z = x * x * x`)."
      ],
      "id": "a1e63b37-b653-4383-bd9b-4e840e58eea1"
    },
    {
      "cell_type": "code",
      "execution_count": null,
      "metadata": {
        "attributes": {
          "classes": [],
          "id": "",
          "n": "21"
        },
        "execution": {
          "iopub.execute_input": "2023-08-18T19:26:10.196001Z",
          "iopub.status.busy": "2023-08-18T19:26:10.195456Z",
          "iopub.status.idle": "2023-08-18T19:26:10.203246Z",
          "shell.execute_reply": "2023-08-18T19:26:10.202155Z"
        },
        "origin_pos": 50,
        "outputId": "2bc6d5ad-21fa-425f-c747-90971ab94681",
        "tab": [
          "pytorch"
        ]
      },
      "outputs": [
        {
          "output_type": "display_data",
          "metadata": {},
          "data": {
            "text/plain": [
              "tensor([True, True, True, True])"
            ]
          }
        }
      ],
      "source": [
        "x.grad.zero_()\n",
        "y = x * x\n",
        "u = y.detach()\n",
        "z = u * x\n",
        "\n",
        "z.sum().backward()\n",
        "x.grad == u"
      ],
      "id": "107ac041"
    },
    {
      "cell_type": "markdown",
      "metadata": {},
      "source": [
        "Note that while this procedure detaches `y`’s ancestors from the graph\n",
        "leading to `z`, the computational graph leading to `y` persists and thus\n",
        "we can calculate the gradient of `y` with respect to `x`."
      ],
      "id": "61a6c0dc-3417-4f1e-8070-53084399fe9c"
    },
    {
      "cell_type": "code",
      "execution_count": null,
      "metadata": {
        "execution": {
          "iopub.execute_input": "2023-08-18T19:26:10.206880Z",
          "iopub.status.busy": "2023-08-18T19:26:10.206001Z",
          "iopub.status.idle": "2023-08-18T19:26:10.213592Z",
          "shell.execute_reply": "2023-08-18T19:26:10.212476Z"
        },
        "origin_pos": 55,
        "outputId": "18ebe0df-2c54-47f7-b295-d9d84535a259",
        "tab": [
          "pytorch"
        ]
      },
      "outputs": [
        {
          "output_type": "display_data",
          "metadata": {},
          "data": {
            "text/plain": [
              "tensor([True, True, True, True])"
            ]
          }
        }
      ],
      "source": [
        "x.grad.zero_()\n",
        "y.sum().backward()\n",
        "x.grad == 2 * x"
      ],
      "id": "cb8c674b"
    },
    {
      "cell_type": "markdown",
      "metadata": {},
      "source": [
        "## Gradients and Python Control Flow\n",
        "\n",
        "So far we reviewed cases where the path from input to output was well\n",
        "defined via a function such as `z = x * x * x`. Programming offers us a\n",
        "lot more freedom in how we compute results. For instance, we can make\n",
        "them depend on auxiliary variables or condition choices on intermediate\n",
        "results. One benefit of using automatic differentiation is that \\[**even\n",
        "if**\\] building the computational graph of (**a function required\n",
        "passing through a maze of Python control flow**) (e.g., conditionals,\n",
        "loops, and arbitrary function calls), (**we can still calculate the\n",
        "gradient of the resulting variable.**) To illustrate this, consider the\n",
        "following code snippet where the number of iterations of the `while`\n",
        "loop and the evaluation of the `if` statement both depend on the value\n",
        "of the input `a`."
      ],
      "id": "f409e17d-1ee3-4f61-8326-292600750efa"
    },
    {
      "cell_type": "code",
      "execution_count": null,
      "metadata": {
        "execution": {
          "iopub.execute_input": "2023-08-18T19:26:10.218214Z",
          "iopub.status.busy": "2023-08-18T19:26:10.217554Z",
          "iopub.status.idle": "2023-08-18T19:26:10.222956Z",
          "shell.execute_reply": "2023-08-18T19:26:10.221858Z"
        },
        "origin_pos": 60,
        "tab": [
          "pytorch"
        ]
      },
      "outputs": [],
      "source": [
        "def f(a):\n",
        "    b = a * 2\n",
        "    while b.norm() < 1000:\n",
        "        b = b * 2\n",
        "    if b.sum() > 0:\n",
        "        c = b\n",
        "    else:\n",
        "        c = 100 * b\n",
        "    return c"
      ],
      "id": "a83327c2"
    },
    {
      "cell_type": "markdown",
      "metadata": {},
      "source": [
        "Below, we call this function, passing in a random value, as input. Since\n",
        "the input is a random variable, we do not know what form the\n",
        "computational graph will take. However, whenever we execute `f(a)` on a\n",
        "specific input, we realize a specific computational graph and can\n",
        "subsequently run `backward`."
      ],
      "id": "bbf87c22-ef1a-44ba-b556-50a74690477a"
    },
    {
      "cell_type": "code",
      "execution_count": null,
      "metadata": {
        "execution": {
          "iopub.execute_input": "2023-08-18T19:26:10.227364Z",
          "iopub.status.busy": "2023-08-18T19:26:10.226919Z",
          "iopub.status.idle": "2023-08-18T19:26:10.232880Z",
          "shell.execute_reply": "2023-08-18T19:26:10.231773Z"
        },
        "origin_pos": 65,
        "tab": [
          "pytorch"
        ]
      },
      "outputs": [],
      "source": [
        "a = torch.randn(size=(), requires_grad=True)\n",
        "d = f(a)\n",
        "d.backward()"
      ],
      "id": "c5ef0264"
    },
    {
      "cell_type": "markdown",
      "metadata": {},
      "source": [
        "Even though our function `f` is, for demonstration purposes, a bit\n",
        "contrived, its dependence on the input is quite simple: it is a *linear*\n",
        "function of `a` with piecewise defined scale. As such, `f(a) / a` is a\n",
        "vector of constant entries and, moreover, `f(a) / a` needs to match the\n",
        "gradient of `f(a)` with respect to `a`."
      ],
      "id": "ae43fe38-948e-4f50-9294-99bfbe733882"
    },
    {
      "cell_type": "code",
      "execution_count": null,
      "metadata": {
        "execution": {
          "iopub.execute_input": "2023-08-18T19:26:10.237298Z",
          "iopub.status.busy": "2023-08-18T19:26:10.236886Z",
          "iopub.status.idle": "2023-08-18T19:26:10.243577Z",
          "shell.execute_reply": "2023-08-18T19:26:10.242480Z"
        },
        "origin_pos": 70,
        "outputId": "0afb1308-dabe-4f65-9cb2-6a87a39dd59c",
        "tab": [
          "pytorch"
        ]
      },
      "outputs": [
        {
          "output_type": "display_data",
          "metadata": {},
          "data": {
            "text/plain": [
              "tensor(True)"
            ]
          }
        }
      ],
      "source": [
        "a.grad == d / a"
      ],
      "id": "ab14ef91"
    },
    {
      "cell_type": "markdown",
      "metadata": {},
      "source": [
        "Dynamic control flow is very common in deep learning. For instance, when\n",
        "processing text, the computational graph depends on the length of the\n",
        "input. In these cases, automatic differentiation becomes vital for\n",
        "statistical modeling since it is impossible to compute the gradient *a\n",
        "priori*.\n",
        "\n",
        "## Discussion\n",
        "\n",
        "You have now gotten a taste of the power of automatic differentiation.\n",
        "The development of libraries for calculating derivatives both\n",
        "automatically and efficiently has been a massive productivity booster\n",
        "for deep learning practitioners, liberating them so they can focus on\n",
        "less menial. Moreover, autograd lets us design massive models for which\n",
        "pen and paper gradient computations would be prohibitively time\n",
        "consuming. Interestingly, while we use autograd to *optimize* models (in\n",
        "a statistical sense) the *optimization* of autograd libraries themselves\n",
        "(in a computational sense) is a rich subject of vital interest to\n",
        "framework designers. Here, tools from compilers and graph manipulation\n",
        "are leveraged to compute results in the most expedient and\n",
        "memory-efficient manner.\n",
        "\n",
        "For now, try to remember these basics: (i) attach gradients to those\n",
        "variables with respect to which we desire derivatives; (ii) record the\n",
        "computation of the target value; (iii) execute the backpropagation\n",
        "function; and (iv) access the resulting gradient.\n",
        "\n",
        "## Exercises\n",
        "\n",
        "1.  Why is the second derivative much more expensive to compute than the\n",
        "    first derivative?\n",
        "2.  After running the function for backpropagation, immediately run it\n",
        "    again and see what happens. Investigate.\n",
        "3.  In the control flow example where we calculate the derivative of `d`\n",
        "    with respect to `a`, what would happen if we changed the variable\n",
        "    `a` to a random vector or a matrix? At this point, the result of the\n",
        "    calculation `f(a)` is no longer a scalar. What happens to the\n",
        "    result? How do we analyze this?\n",
        "4.  Let $f(x) = \\sin(x)$. Plot the graph of $f$ and of its derivative\n",
        "    $f'$. Do not exploit the fact that $f'(x) = \\cos(x)$ but rather use\n",
        "    automatic differentiation to get the result.\n",
        "5.  Let $f(x) = ((\\log x^2) \\cdot \\sin x) + x^{-1}$. Write out a\n",
        "    dependency graph tracing results from $x$ to $f(x)$.\n",
        "6.  Use the chain rule to compute the derivative $\\frac{df}{dx}$ of the\n",
        "    aforementioned function, placing each term on the dependency graph\n",
        "    that you constructed previously.\n",
        "7.  Given the graph and the intermediate derivative results, you have a\n",
        "    number of options when computing the gradient. Evaluate the result\n",
        "    once starting from $x$ to $f$ and once from $f$ tracing back to $x$.\n",
        "    The path from $x$ to $f$ is commonly known as *forward\n",
        "    differentiation*, whereas the path from $f$ to $x$ is known as\n",
        "    backward differentiation.\n",
        "8.  When might you want to use forward, and when backward,\n",
        "    differentiation? Hint: consider the amount of intermediate data\n",
        "    needed, the ability to parallelize steps, and the size of matrices\n",
        "    and vectors involved."
      ],
      "id": "b121564a-b97e-41ee-a44f-99d45f98da0d"
    }
  ],
  "nbformat": 4,
  "nbformat_minor": 5,
  "metadata": {
    "colab": {
      "provenance": []
    },
    "kernelspec": {
      "name": "python3",
      "display_name": "Python 3",
      "language": "python"
    },
    "language_info": {
      "name": "python"
    },
    "required_libs": []
  }
}